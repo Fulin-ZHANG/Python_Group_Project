{
 "cells": [
  {
   "cell_type": "markdown",
   "id": "604b8ec7",
   "metadata": {},
   "source": [
    "# A group project"
   ]
  },
  {
   "cell_type": "markdown",
   "id": "633ea7d5",
   "metadata": {
    "nbgrader": {
     "grade": false,
     "grade_id": "cell-9f24972ca09c9895",
     "locked": true,
     "schema_version": 1,
     "solution": false
    },
    "slideshow": {
     "slide_type": "skip"
    }
   },
   "source": [
    "## Setup"
   ]
  },
  {
   "cell_type": "code",
   "execution_count": null,
   "id": "c47db1ac",
   "metadata": {
    "nbgrader": {
     "grade": false,
     "grade_id": "cell-9cce55fe1edff69f",
     "locked": true,
     "schema_version": 1,
     "solution": false
    },
    "slideshow": {
     "slide_type": "skip"
    }
   },
   "outputs": [],
   "source": [
    "# To support both python 2 and python 3\n",
    "from __future__ import division, print_function, unicode_literals\n",
    "\n",
    "# Common imports\n",
    "import numpy as np\n",
    "import os\n",
    "import pandas as pd\n",
    "\n",
    "#\n",
    "pd.set_option(\"display.max_rows\", 999)\n",
    "\n",
    "# to make this notebook's output stable across runs\n",
    "np.random.seed(42)\n",
    "\n",
    "# To plot pretty figures\n",
    "%matplotlib inline\n",
    "import matplotlib\n",
    "import matplotlib.pyplot as plt\n",
    "plt.rcParams['axes.labelsize'] = 14\n",
    "plt.rcParams['xtick.labelsize'] = 12\n",
    "plt.rcParams['ytick.labelsize'] = 12\n",
    "\n",
    "\n",
    "# Ignore useless warnings (see SciPy issue #5998)\n",
    "import warnings\n",
    "warnings.filterwarnings(action=\"ignore\", message=\"^internal gelsd\")"
   ]
  },
  {
   "cell_type": "markdown",
   "id": "32cd29c7",
   "metadata": {},
   "source": [
    "Select a PATH pointing to your working directory - where your datasets are saved"
   ]
  },
  {
   "cell_type": "code",
   "execution_count": null,
   "id": "5489b6aa",
   "metadata": {},
   "outputs": [],
   "source": [
    "PATH = ## Your code here ##"
   ]
  },
  {
   "cell_type": "markdown",
   "id": "df37f34e",
   "metadata": {},
   "source": [
    "Then use the \\<os> module to change your current (default) working directory to PATH, your new working directory"
   ]
  },
  {
   "cell_type": "code",
   "execution_count": null,
   "id": "671aeacb",
   "metadata": {},
   "outputs": [],
   "source": [
    "## Your code here ##"
   ]
  },
  {
   "cell_type": "markdown",
   "id": "ea280915",
   "metadata": {},
   "source": [
    "**Import the \\<California_Houses.csv> dataset from your working directory**"
   ]
  },
  {
   "cell_type": "code",
   "execution_count": null,
   "id": "68606cfc",
   "metadata": {},
   "outputs": [],
   "source": [
    "df = ## Your code here ##"
   ]
  },
  {
   "cell_type": "code",
   "execution_count": null,
   "id": "d30ef121",
   "metadata": {},
   "outputs": [],
   "source": [
    "## Your code here ##"
   ]
  },
  {
   "cell_type": "markdown",
   "id": "1552c3e4",
   "metadata": {},
   "source": [
    "**Each row of the dataset represents one district in California**<br>\n",
    "Have a look a the first and last few rows"
   ]
  },
  {
   "cell_type": "code",
   "execution_count": null,
   "id": "151627bc",
   "metadata": {},
   "outputs": [],
   "source": [
    "## Your code here ##"
   ]
  },
  {
   "cell_type": "markdown",
   "id": "0b76c14c",
   "metadata": {},
   "source": [
    "### Create a categorical  variable \\<Closest_city> indicating the closest CA city and drop the distance to each city"
   ]
  },
  {
   "cell_type": "markdown",
   "id": "504bb4f1",
   "metadata": {},
   "source": [
    "*Hint : you may wish to associate the name of each city to the smallest distance among the four cities*\n",
    "\n",
    "Save the transformed dataset as \"housing\""
   ]
  },
  {
   "cell_type": "code",
   "execution_count": null,
   "id": "bridal-launch",
   "metadata": {},
   "outputs": [],
   "source": [
    "#######################################\n",
    "#\n",
    "# Your lines (and cells) of code here\n",
    "#\n",
    "#######################################"
   ]
  },
  {
   "cell_type": "code",
   "execution_count": null,
   "id": "cbe2f826",
   "metadata": {},
   "outputs": [],
   "source": [
    "housing"
   ]
  },
  {
   "cell_type": "markdown",
   "id": "promising-patient",
   "metadata": {},
   "source": [
    "**Display the summary of your new dataframe**"
   ]
  },
  {
   "cell_type": "code",
   "execution_count": null,
   "id": "be508ee4",
   "metadata": {
    "scrolled": false
   },
   "outputs": [],
   "source": [
    "## Your code here ##"
   ]
  },
  {
   "cell_type": "markdown",
   "id": "68d3d72f",
   "metadata": {},
   "source": [
    "# Part 1 - Data explorations"
   ]
  },
  {
   "cell_type": "markdown",
   "id": "0a125869",
   "metadata": {
    "heading_collapsed": true,
    "hidden": true,
    "nbgrader": {
     "grade": false,
     "grade_id": "cell-b15e489748c939f8",
     "locked": true,
     "schema_version": 1,
     "solution": false
    },
    "slideshow": {
     "slide_type": "skip"
    }
   },
   "source": [
    "### What do you notice? \n",
    "\n",
    "- which attributes are quantitative ?\n",
    "- which attributes are not quantitative? and what are their types?"
   ]
  },
  {
   "cell_type": "markdown",
   "id": "characteristic-diving",
   "metadata": {},
   "source": [
    "### *``Your answers here``*"
   ]
  },
  {
   "cell_type": "markdown",
   "id": "b56a63ba",
   "metadata": {
    "heading_collapsed": true,
    "hidden": true,
    "nbgrader": {
     "grade": false,
     "grade_id": "cell-3ba2ac06edfb3943",
     "locked": true,
     "schema_version": 1,
     "solution": false
    },
    "slideshow": {
     "slide_type": "skip"
    }
   },
   "source": [
    "### Find out what categories exist in 'Closest_city' column and how many districts belong to each category.\n"
   ]
  },
  {
   "cell_type": "code",
   "execution_count": null,
   "id": "fluid-literacy",
   "metadata": {
    "scrolled": true
   },
   "outputs": [],
   "source": [
    "## Your code here ##"
   ]
  },
  {
   "cell_type": "markdown",
   "id": "87434f84",
   "metadata": {
    "heading_collapsed": true,
    "hidden": true,
    "nbgrader": {
     "grade": false,
     "grade_id": "cell-2f9f4fb7339b3428",
     "locked": true,
     "schema_version": 1,
     "solution": false
    },
    "slideshow": {
     "slide_type": "skip"
    }
   },
   "source": [
    "### Show a summary of the quantitative attributes\n",
    "**Use tables and plots**"
   ]
  },
  {
   "cell_type": "code",
   "execution_count": null,
   "id": "6d566143",
   "metadata": {
    "hidden": true,
    "scrolled": true,
    "slideshow": {
     "slide_type": "skip"
    }
   },
   "outputs": [],
   "source": [
    "## Your code for the tables here ##"
   ]
  },
  {
   "cell_type": "code",
   "execution_count": null,
   "id": "7f8950b5",
   "metadata": {
    "deletable": false,
    "editable": false,
    "hidden": true
   },
   "outputs": [],
   "source": [
    "%matplotlib inline\n",
    "import matplotlib.pyplot as plt"
   ]
  },
  {
   "cell_type": "code",
   "execution_count": null,
   "id": "75496d3c",
   "metadata": {
    "hidden": true,
    "nbgrader": {
     "grade": false,
     "grade_id": "cell-23c70c7caaa913e7",
     "locked": false,
     "schema_version": 1,
     "solution": true
    },
    "scrolled": false,
    "slideshow": {
     "slide_type": "skip"
    }
   },
   "outputs": [],
   "source": [
    "## Your code for the plots here ##"
   ]
  },
  {
   "cell_type": "markdown",
   "id": "89e725d6",
   "metadata": {
    "heading_collapsed": true,
    "hidden": true,
    "nbgrader": {
     "grade": false,
     "grade_id": "cell-f928346dcd383b9c",
     "locked": true,
     "schema_version": 1,
     "solution": false
    },
    "slideshow": {
     "slide_type": "skip"
    }
   },
   "source": [
    "#### Look more carefully into the distribution of the \"median_income\" column\n",
    "Hint : you may wish to change the \\<bins> parameter"
   ]
  },
  {
   "cell_type": "code",
   "execution_count": null,
   "id": "ca55d610",
   "metadata": {},
   "outputs": [],
   "source": [
    "## Your code here ##"
   ]
  },
  {
   "cell_type": "code",
   "execution_count": null,
   "id": "dd9d3b2a",
   "metadata": {},
   "outputs": [],
   "source": [
    "## Your code for a boxplot here ##"
   ]
  },
  {
   "cell_type": "markdown",
   "id": "13557895",
   "metadata": {},
   "source": [
    "### Explain the following lines of code"
   ]
  },
  {
   "cell_type": "markdown",
   "id": "incident-sessions",
   "metadata": {},
   "source": [
    "### *``Your answers here``*"
   ]
  },
  {
   "cell_type": "code",
   "execution_count": null,
   "id": "1e829070",
   "metadata": {},
   "outputs": [],
   "source": [
    "cat=[np.min(housing[\"Median_Income\"])]\n",
    "for i in [0.20, 0.40, 0.60, 0.80]:\n",
    "    cat.append(housing[\"Median_Income\"].quantile(i))\n",
    "cat.append(np.max(housing[\"Median_Income\"]))\n",
    "print(cat)"
   ]
  },
  {
   "cell_type": "code",
   "execution_count": null,
   "id": "ce765804",
   "metadata": {},
   "outputs": [],
   "source": [
    "housing[\"income_cat\"]=pd.cut(housing[\"Median_Income\"], bins=cat, labels = [1,2,3,4,5], include_lowest=True)"
   ]
  },
  {
   "cell_type": "code",
   "execution_count": null,
   "id": "7127d027",
   "metadata": {},
   "outputs": [],
   "source": [
    "housing[\"income_cat\"].value_counts()"
   ]
  },
  {
   "cell_type": "code",
   "execution_count": null,
   "id": "7067f6f0",
   "metadata": {},
   "outputs": [],
   "source": [
    "housing[\"income_cat\"].hist();"
   ]
  },
  {
   "cell_type": "code",
   "execution_count": null,
   "id": "e078ea1d",
   "metadata": {},
   "outputs": [],
   "source": [
    "housing.info()"
   ]
  },
  {
   "cell_type": "markdown",
   "id": "a5c7c3aa",
   "metadata": {},
   "source": [
    "### Create a Test Set through stratified random sampling on the income variable"
   ]
  },
  {
   "cell_type": "markdown",
   "id": "a8824ef1",
   "metadata": {},
   "source": [
    "**Why a test set ?** <br>\n",
    "**Why stratify the data on the income variable before generating a test set ?** <br>\n",
    "Hint : use a seed = 42 for the reproductibility of the (re)samplings"
   ]
  },
  {
   "cell_type": "markdown",
   "id": "systematic-thinking",
   "metadata": {},
   "source": [
    "### *``Your answers here``*"
   ]
  },
  {
   "cell_type": "code",
   "execution_count": null,
   "id": "3ff6c0bb",
   "metadata": {},
   "outputs": [],
   "source": [
    "from sklearn.model_selection import train_test_split"
   ]
  },
  {
   "cell_type": "code",
   "execution_count": null,
   "id": "32ba301b",
   "metadata": {},
   "outputs": [],
   "source": [
    "train_strat, test_strat = ## Your code here ##"
   ]
  },
  {
   "cell_type": "markdown",
   "id": "cd10c5c0",
   "metadata": {},
   "source": [
    "Now generate an equivalent random split without stratification"
   ]
  },
  {
   "cell_type": "code",
   "execution_count": null,
   "id": "c1eb2c9e",
   "metadata": {},
   "outputs": [],
   "source": [
    "train_random, test_random = ## Your code here ##"
   ]
  },
  {
   "cell_type": "markdown",
   "id": "9900b669",
   "metadata": {},
   "source": [
    "#### Explain precisely what each of the two following cells do."
   ]
  },
  {
   "cell_type": "markdown",
   "id": "historic-victory",
   "metadata": {},
   "source": [
    "### *``Your answers here``*"
   ]
  },
  {
   "cell_type": "code",
   "execution_count": null,
   "id": "38fef977",
   "metadata": {},
   "outputs": [],
   "source": [
    "def income_cat_proportions(data):\n",
    "    return data[\"income_cat\"].value_counts() / len(data)\n",
    "\n",
    "train_set, test_set = train_test_split(housing, test_size=0.2, random_state=42)\n",
    "\n",
    "compare_props = pd.DataFrame({\n",
    "    \"Overall\": income_cat_proportions(housing),\n",
    "    \"Stratified\": income_cat_proportions(test_strat),\n",
    "    \"Random\": income_cat_proportions(test_random),\n",
    "}).sort_index()\n",
    "\n",
    "compare_props[\"Rand. %error\"] = 100 * compare_props[\"Random\"] / compare_props[\"Overall\"] - 100\n",
    "compare_props[\"Strat. %error\"] = 100 * compare_props[\"Stratified\"] / compare_props[\"Overall\"] - 100"
   ]
  },
  {
   "cell_type": "code",
   "execution_count": null,
   "id": "e3784b39",
   "metadata": {
    "scrolled": true
   },
   "outputs": [],
   "source": [
    "compare_props"
   ]
  },
  {
   "cell_type": "markdown",
   "id": "4477d452",
   "metadata": {},
   "source": [
    "**For safety, copy the stratified train set to be used for modeling** <br>\n",
    "Call your working copy \\<houses_df>"
   ]
  },
  {
   "cell_type": "code",
   "execution_count": null,
   "id": "2ac8d44e",
   "metadata": {},
   "outputs": [],
   "source": [
    "## Your code here ##"
   ]
  },
  {
   "cell_type": "markdown",
   "id": "80973ac7",
   "metadata": {},
   "source": [
    "### Data Visualization : scatter plots"
   ]
  },
  {
   "cell_type": "markdown",
   "id": "a5d9d885",
   "metadata": {},
   "source": [
    "**Plot each row (observation) in the dataset as a geographical point** <br>\n",
    "Hint : You may use figsize=(10,10), alpha=0.2)"
   ]
  },
  {
   "cell_type": "code",
   "execution_count": null,
   "id": "7d7301c3",
   "metadata": {},
   "outputs": [],
   "source": [
    "## Your code here ##"
   ]
  },
  {
   "cell_type": "markdown",
   "id": "651c84c8",
   "metadata": {},
   "source": [
    "### Geographic map of California houses values per district with population density"
   ]
  },
  {
   "cell_type": "markdown",
   "id": "7aef9120",
   "metadata": {},
   "source": [
    "**Try to understand and comment on the following code**"
   ]
  },
  {
   "cell_type": "markdown",
   "id": "sudden-heating",
   "metadata": {},
   "source": [
    "### *``Your comments here``*"
   ]
  },
  {
   "cell_type": "code",
   "execution_count": null,
   "id": "b087cf56",
   "metadata": {},
   "outputs": [],
   "source": [
    "import warnings\n",
    "warnings.filterwarnings(\"ignore\")\n",
    "\n",
    "import matplotlib.image as mpimg\n",
    "california_img=mpimg.imread(\"california.png\")\n",
    "ax = houses_df.plot(kind=\"scatter\", x=\"Longitude\", y=\"Latitude\", figsize=(14,10),\n",
    "                       s=houses_df['Population']/100, label=\"Population\",\n",
    "                       c=\"Median_House_Value\", cmap=plt.get_cmap(\"jet\"),colorbar=False, alpha=0.4)\n",
    "plt.imshow(california_img, extent=[-124.55, -113.80, 32.45, 42.05], alpha=0.5,cmap=plt.get_cmap(\"jet\"))\n",
    "plt.ylabel(\"Latitude\", fontsize=14)\n",
    "plt.xlabel(\"Longitude\", fontsize=14)\n",
    "\n",
    "prices = houses_df[\"Median_House_Value\"]\n",
    "tick_values = np.linspace(prices.min(), prices.max(), 11)\n",
    "cbar = plt.colorbar()\n",
    "cbar.ax.set_yticklabels([\"$%dk\"%(round(v/1000)) for v in tick_values], fontsize=14)\n",
    "cbar.set_label('Median House Value', fontsize=16)\n",
    "\n",
    "plt.legend(fontsize=16)\n",
    "plt.show()"
   ]
  },
  {
   "cell_type": "markdown",
   "id": "b0e0b1f4",
   "metadata": {},
   "source": [
    "### Bivariate Analysis"
   ]
  },
  {
   "cell_type": "markdown",
   "id": "85c3e777",
   "metadata": {},
   "source": [
    "**How are the different variables related to each other two by two ?**"
   ]
  },
  {
   "cell_type": "markdown",
   "id": "067e9c31",
   "metadata": {},
   "source": [
    "Compute the correlation matrix of all the quantitative variables <br>\n",
    "Call it \"houses_cor\""
   ]
  },
  {
   "cell_type": "code",
   "execution_count": null,
   "id": "202ff7a2",
   "metadata": {},
   "outputs": [],
   "source": [
    "## your code here ##"
   ]
  },
  {
   "cell_type": "code",
   "execution_count": null,
   "id": "036ac26c",
   "metadata": {},
   "outputs": [],
   "source": [
    "houses_cor"
   ]
  },
  {
   "cell_type": "markdown",
   "id": "d3d0da31",
   "metadata": {},
   "source": [
    "Display the most important correlations with the target variable : \\<Median_House_Value> <br>\n",
    "Why is it pertinent to choose this variable as outcome (target) ?"
   ]
  },
  {
   "cell_type": "code",
   "execution_count": null,
   "id": "42d8b6d3",
   "metadata": {
    "scrolled": false
   },
   "outputs": [],
   "source": [
    "## Your code here ##"
   ]
  },
  {
   "cell_type": "markdown",
   "id": "aboriginal-petersburg",
   "metadata": {},
   "source": [
    "### *``Your comments here``*"
   ]
  },
  {
   "cell_type": "markdown",
   "id": "34d81ec4",
   "metadata": {},
   "source": [
    "What are the predictors of \\<Median_House_Value> worthy of interest and the nature of their relationship with the target ? <br>\n",
    "**Provide the scatter plots of those predictors with the target**"
   ]
  },
  {
   "cell_type": "code",
   "execution_count": null,
   "id": "50b859af",
   "metadata": {},
   "outputs": [],
   "source": [
    "## Your code here ##"
   ]
  },
  {
   "cell_type": "markdown",
   "id": "7572fd71",
   "metadata": {},
   "source": [
    "**What special observations are you drawing from these scatter plots?** <br>\n",
    "Is the total number of rooms or bedrooms per district meaningful ? <br>\n",
    "If so explain why, if not what are your suggestions ?"
   ]
  },
  {
   "cell_type": "markdown",
   "id": "modern-reduction",
   "metadata": {},
   "source": [
    "### *``Your answers here``*"
   ]
  },
  {
   "cell_type": "markdown",
   "id": "818af841",
   "metadata": {},
   "source": [
    "**Create three new variables :**\n",
    "1. Rooms per household\n",
    "2. Bedrooms per rooms\n",
    "3. People per household"
   ]
  },
  {
   "cell_type": "code",
   "execution_count": null,
   "id": "assured-seven",
   "metadata": {},
   "outputs": [],
   "source": [
    "#####################################\n",
    "\n",
    "## Your lines (cells) of code here ##\n",
    "\n",
    "#####################################"
   ]
  },
  {
   "cell_type": "markdown",
   "id": "49eb6766",
   "metadata": {},
   "source": [
    "**Let us again look at the correlation between the predictors and the target**"
   ]
  },
  {
   "cell_type": "code",
   "execution_count": null,
   "id": "2e1ab6e2",
   "metadata": {
    "scrolled": false
   },
   "outputs": [],
   "source": [
    "## Your code here ##"
   ]
  },
  {
   "cell_type": "markdown",
   "id": "1e034094",
   "metadata": {},
   "source": [
    "# Part 2 - Preparing data for Machine Learning"
   ]
  },
  {
   "cell_type": "markdown",
   "id": "weird-strain",
   "metadata": {},
   "source": [
    "## 2.1 - Missing Values"
   ]
  },
  {
   "cell_type": "markdown",
   "id": "1809541a",
   "metadata": {},
   "source": [
    "### 2.1.1 - Case when there are missing values in one variable"
   ]
  },
  {
   "cell_type": "markdown",
   "id": "5c2565da",
   "metadata": {},
   "source": [
    "Let us create a dataset where there are 10% of missing values in one variable"
   ]
  },
  {
   "cell_type": "markdown",
   "id": "official-salmon",
   "metadata": {},
   "source": [
    "### *``Comment on each of the following cells``*"
   ]
  },
  {
   "cell_type": "code",
   "execution_count": null,
   "id": "782a1f27",
   "metadata": {},
   "outputs": [],
   "source": [
    "## Your comment here ##\n",
    "\n",
    "import random\n",
    "random.seed(42)\n",
    "miss = np.random.choice(houses_df.index, 1651)"
   ]
  },
  {
   "cell_type": "code",
   "execution_count": null,
   "id": "207c9936",
   "metadata": {},
   "outputs": [],
   "source": [
    "miss"
   ]
  },
  {
   "cell_type": "code",
   "execution_count": null,
   "id": "f71c89a6",
   "metadata": {},
   "outputs": [],
   "source": [
    "## Your comment here ##\n",
    "\n",
    "houses_miss = houses_df.copy()"
   ]
  },
  {
   "cell_type": "code",
   "execution_count": null,
   "id": "182d51b6",
   "metadata": {},
   "outputs": [],
   "source": [
    "## Your comment here ##\n",
    "\n",
    "houses_miss.loc[miss,\"Tot_Bedrooms\"] = None"
   ]
  },
  {
   "cell_type": "code",
   "execution_count": null,
   "id": "6891e646",
   "metadata": {},
   "outputs": [],
   "source": [
    "## Your comment here ##\n",
    "\n",
    "houses_miss.info()"
   ]
  },
  {
   "cell_type": "markdown",
   "id": "f4f833c4",
   "metadata": {},
   "source": [
    "**When we have missing values, there are two main possibilities :**\n",
    "1. We simply drop the rows associated to the missing values\n",
    "2. We estimate the missing values through an imputation method - the simplest and safest is to use the median"
   ]
  },
  {
   "cell_type": "code",
   "execution_count": null,
   "id": "82e3573a",
   "metadata": {},
   "outputs": [],
   "source": [
    "## Your comment here ##\n",
    "\n",
    "houses_drop = houses_miss.dropna(subset=[\"Tot_Bedrooms\"])"
   ]
  },
  {
   "cell_type": "code",
   "execution_count": null,
   "id": "9e82b232",
   "metadata": {},
   "outputs": [],
   "source": [
    "## Your comment here ##\n",
    "\n",
    "houses_drop.info()"
   ]
  },
  {
   "cell_type": "code",
   "execution_count": null,
   "id": "9d82c17d",
   "metadata": {},
   "outputs": [],
   "source": [
    "## Your comment here ##\n",
    "\n",
    "Bed_med = houses_miss[\"Tot_Bedrooms\"].median()\n",
    "houses_miss[\"Tot_Bedrooms\"].fillna(Bed_med, inplace=True)"
   ]
  },
  {
   "cell_type": "code",
   "execution_count": null,
   "id": "43a2f4f1",
   "metadata": {},
   "outputs": [],
   "source": [
    "## Your comment here ##\n",
    "\n",
    "houses_miss.info()"
   ]
  },
  {
   "cell_type": "markdown",
   "id": "8072f7da",
   "metadata": {},
   "source": [
    "### 2.1.2 - Case where you have missing values in several variables"
   ]
  },
  {
   "cell_type": "markdown",
   "id": "20496600",
   "metadata": {},
   "source": [
    "Let us now build a dataset with multiple missing values : <br>\n",
    "Start with a function generating missing values in a chosen column of a dataframe"
   ]
  },
  {
   "cell_type": "code",
   "execution_count": null,
   "id": "9ac6aec4",
   "metadata": {},
   "outputs": [],
   "source": [
    "def col_miss (df, col, max_miss):\n",
    "    '''\n",
    "    df : a pandas dataframe\n",
    "    col : the name of the variable column\n",
    "    max_miss : the maximum number of missing values\n",
    "    returns a data frame with a random number of missing values on col\n",
    "    '''\n",
    "\n",
    "    ########################################\n",
    "    ## Your lines of code here            ##\n",
    "    ########################################\n"
   ]
  },
  {
   "cell_type": "code",
   "execution_count": null,
   "id": "8f6b6a08",
   "metadata": {},
   "outputs": [],
   "source": [
    "# Copy the train set\n",
    "housing_miss = houses_df.copy()\n",
    "housing_miss.info()"
   ]
  },
  {
   "cell_type": "markdown",
   "id": "96f3ad60",
   "metadata": {},
   "source": [
    "Generate some missing values in the first 10 predictors of \\<housing_miss>"
   ]
  },
  {
   "cell_type": "code",
   "execution_count": null,
   "id": "5f8afe29",
   "metadata": {},
   "outputs": [],
   "source": [
    "## Your code here ##  "
   ]
  },
  {
   "cell_type": "code",
   "execution_count": null,
   "id": "02036e5d",
   "metadata": {
    "scrolled": true
   },
   "outputs": [],
   "source": [
    "housing_miss.info()"
   ]
  },
  {
   "cell_type": "markdown",
   "id": "ethical-syria",
   "metadata": {},
   "source": [
    "Now, he have a dataset with missing values in all the quantitative predictors"
   ]
  },
  {
   "cell_type": "markdown",
   "id": "strategic-storage",
   "metadata": {},
   "source": [
    "#### How many missing values are there in each variable ?"
   ]
  },
  {
   "cell_type": "code",
   "execution_count": null,
   "id": "blond-petroleum",
   "metadata": {},
   "outputs": [],
   "source": [
    "## Your code here ##"
   ]
  },
  {
   "cell_type": "markdown",
   "id": "0981b7ec",
   "metadata": {},
   "source": [
    "#### Let us use sklearn to do multiple imputation, with existing modules"
   ]
  },
  {
   "cell_type": "code",
   "execution_count": null,
   "id": "0445f668",
   "metadata": {},
   "outputs": [],
   "source": [
    "# Start with simple imputer\n",
    "from sklearn.impute import SimpleImputer"
   ]
  },
  {
   "cell_type": "markdown",
   "id": "inside-video",
   "metadata": {},
   "source": [
    "**Using Simple Imputer, impute missing data in each variable by replacing missing values with the mean**"
   ]
  },
  {
   "cell_type": "code",
   "execution_count": null,
   "id": "driven-parliament",
   "metadata": {},
   "outputs": [],
   "source": [
    "## Your code here ##"
   ]
  },
  {
   "cell_type": "code",
   "execution_count": null,
   "id": "73fa2c98",
   "metadata": {
    "scrolled": true
   },
   "outputs": [],
   "source": [
    "X_df = pd.DataFrame(X, columns=df.columns)\n",
    "X_df.info()"
   ]
  },
  {
   "cell_type": "markdown",
   "id": "dutch-universe",
   "metadata": {},
   "source": [
    "**Using KNNImputer, impute missing data in each variable**"
   ]
  },
  {
   "cell_type": "code",
   "execution_count": null,
   "id": "75f9d3a3",
   "metadata": {},
   "outputs": [],
   "source": [
    "## Your code here ##"
   ]
  },
  {
   "cell_type": "code",
   "execution_count": null,
   "id": "da5f6274",
   "metadata": {},
   "outputs": [],
   "source": [
    "## Your code here ##"
   ]
  },
  {
   "cell_type": "code",
   "execution_count": null,
   "id": "953ea688",
   "metadata": {},
   "outputs": [],
   "source": [
    "## Your code here ##"
   ]
  },
  {
   "cell_type": "markdown",
   "id": "electric-share",
   "metadata": {},
   "source": [
    "### Which imputer is better : SimpleImputer or KNNImputer ?\n",
    "Please give some arguments"
   ]
  },
  {
   "cell_type": "markdown",
   "id": "polyphonic-builder",
   "metadata": {},
   "source": [
    "### *``Your answers here``*"
   ]
  },
  {
   "cell_type": "markdown",
   "id": "1dbce2ea",
   "metadata": {},
   "source": [
    "## 2.2 - Categorical variables..."
   ]
  },
  {
   "cell_type": "code",
   "execution_count": null,
   "id": "f3570c09",
   "metadata": {},
   "outputs": [],
   "source": [
    "houses_df.info()"
   ]
  },
  {
   "cell_type": "markdown",
   "id": "a7829a1e",
   "metadata": {},
   "source": [
    "We have two categorical variables :\n",
    "1. \"Closest_city\" is nominal\n",
    "2. \"income_cat\" is ordinal\n",
    "**Explain the difference between nominal and ordinal variables**"
   ]
  },
  {
   "cell_type": "markdown",
   "id": "first-princeton",
   "metadata": {},
   "source": [
    "### *``Your answers here``*"
   ]
  },
  {
   "cell_type": "markdown",
   "id": "e2ce91cc",
   "metadata": {},
   "source": [
    "### 2.2.1 - Introducing onehot encoding"
   ]
  },
  {
   "cell_type": "markdown",
   "id": "d1064f99",
   "metadata": {},
   "source": [
    "\"Closest_city\" has four modalities : the four city names <br>\n",
    "\"income_cat\" has five modalities : the five intervals that we have labeled 1,2,3,4,5. However as you see in the graph and in the original values - cat =  [0.4999, 2.3523, 3.1406, 3.9669399999999997, 5.10972, 15.0001] these intervals are not equidistant, so you cannot really add nor substract them meaningfully. <br>\n",
    "**In short, both categorical variables should be considered nominal**"
   ]
  },
  {
   "cell_type": "markdown",
   "id": "badb2554",
   "metadata": {},
   "source": [
    "### *So, what is one hot encoding ?*"
   ]
  },
  {
   "cell_type": "markdown",
   "id": "05f4aef6",
   "metadata": {},
   "source": [
    "1. Count the number of modalities in your categorical variable - assume we have k modalities\n",
    "2. Create k  dummy variables with k modalities where the values are 1 for the corresponding modalities, otherwise 0 <br>\n",
    "*Warning : this method is forbidden for analytical solutions and with Linear Regression without regularization. <br>\n",
    "For more information : [see here](https://inmachineswetrust.com/posts/drop-first-columns/#cell7)*"
   ]
  },
  {
   "cell_type": "code",
   "execution_count": null,
   "id": "6f777e0f",
   "metadata": {},
   "outputs": [],
   "source": [
    "# Let us select our categorical variables\n",
    "houses_cat = houses_df[[\"Closest_city\",\"income_cat\"]]"
   ]
  },
  {
   "cell_type": "code",
   "execution_count": null,
   "id": "f8341bc6",
   "metadata": {},
   "outputs": [],
   "source": [
    "# Call for onehot encoder. Choose a dense rather than a sparse vector\n",
    "from sklearn.preprocessing import OneHotEncoder as OHE\n",
    "onehot = OHE(sparse=False)\n",
    "houses_onehot = onehot.fit_transform(houses_cat)"
   ]
  },
  {
   "cell_type": "code",
   "execution_count": null,
   "id": "e528b1a3",
   "metadata": {},
   "outputs": [],
   "source": [
    "houses_onehot"
   ]
  },
  {
   "cell_type": "code",
   "execution_count": null,
   "id": "fe99ea3a",
   "metadata": {},
   "outputs": [],
   "source": [
    "onehot.categories_"
   ]
  },
  {
   "cell_type": "markdown",
   "id": "678f4088",
   "metadata": {},
   "source": [
    "### 2.2.2 - Building a Pipeline"
   ]
  },
  {
   "cell_type": "markdown",
   "id": "b2e82cb8",
   "metadata": {},
   "source": [
    "Let us first discover how a pipeline operates..."
   ]
  },
  {
   "cell_type": "code",
   "execution_count": null,
   "id": "e7fbf0f0",
   "metadata": {},
   "outputs": [],
   "source": [
    "# Copy once again the original train set\n",
    "housing_df = train_strat.copy()\n",
    "housing_df.info()"
   ]
  },
  {
   "cell_type": "markdown",
   "id": "88f428a1",
   "metadata": {},
   "source": [
    "Let us start with a custom transformer to be used to add attributes"
   ]
  },
  {
   "cell_type": "code",
   "execution_count": null,
   "id": "610330cb",
   "metadata": {},
   "outputs": [],
   "source": [
    "from sklearn.base import BaseEstimator, TransformerMixin\n",
    "\n",
    "# column index\n",
    "rooms_ix, bedrooms_ix, population_ix, households_ix = 3, 4, 5, 6\n",
    "\n",
    "class CombinedAttributesAdder(BaseEstimator, TransformerMixin):\n",
    "    def __init__(self, add_bedrooms_per_room = True): # no *args or **kargs\n",
    "        self.add_bedrooms_per_room = add_bedrooms_per_room\n",
    "    def fit(self, X, y=None):\n",
    "        return self  # nothing else to do\n",
    "    def transform(self, X):\n",
    "        rooms_per_household = X[:, rooms_ix] / X[:, households_ix]\n",
    "        population_per_household = X[:, population_ix] / X[:, households_ix]\n",
    "        if self.add_bedrooms_per_room:\n",
    "            bedrooms_per_room = X[:, bedrooms_ix] / X[:, rooms_ix]\n",
    "            return np.c_[X, rooms_per_household, population_per_household,\n",
    "                         bedrooms_per_room]\n",
    "        else:\n",
    "            return np.c_[X, rooms_per_household, population_per_household]\n"
   ]
  },
  {
   "cell_type": "code",
   "execution_count": null,
   "id": "bc428ccf",
   "metadata": {},
   "outputs": [],
   "source": [
    "attr_adder = CombinedAttributesAdder(add_bedrooms_per_room=False)\n",
    "houses_plus = attr_adder.transform(housing_df.values)"
   ]
  },
  {
   "cell_type": "markdown",
   "id": "26774be9",
   "metadata": {},
   "source": [
    "#### What do these codes actually accomplish ?\n",
    "Hint : sklearn uses duck typing, not inheritance.<br>\n",
    "To find our more about Duck Typing, [go here](https://youtu.be/N6sst3aH_FA)"
   ]
  },
  {
   "cell_type": "markdown",
   "id": "furnished-astronomy",
   "metadata": {},
   "source": [
    "### *``Your answers here``*"
   ]
  },
  {
   "cell_type": "code",
   "execution_count": null,
   "id": "9bd50cdf",
   "metadata": {
    "scrolled": true
   },
   "outputs": [],
   "source": [
    "# Check your answers...\n",
    "\n",
    "houses_plus_df = pd.DataFrame(houses_plus,\n",
    "                              columns=list(housing_df.columns)+[\"rooms_per_household\", \"population_per_household\"],\n",
    "                              index=housing_df.index)\n",
    "\n",
    "houses_plus_df.info()"
   ]
  },
  {
   "cell_type": "markdown",
   "id": "advised-conclusion",
   "metadata": {},
   "source": [
    "### 2.2.3 - Pipeline for the quantitative variables"
   ]
  },
  {
   "cell_type": "markdown",
   "id": "ddb09afa",
   "metadata": {},
   "source": [
    "For the quantitative variables, let us generate a pipeline with the following steps\n",
    "1. Impute missing values with the \"median\" method\n",
    "2. Add two new attributes : rooms per household and population per household\n",
    "3. Standardize the training set"
   ]
  },
  {
   "cell_type": "markdown",
   "id": "603e5dd2",
   "metadata": {},
   "source": [
    "#### Let us restart with a new training set from a dataset with missing values"
   ]
  },
  {
   "cell_type": "code",
   "execution_count": null,
   "id": "cca77f38",
   "metadata": {},
   "outputs": [],
   "source": [
    "train = housing_miss[housing_miss.columns[0:12]]\n",
    "train.info()"
   ]
  },
  {
   "cell_type": "code",
   "execution_count": null,
   "id": "6ba556a5",
   "metadata": {},
   "outputs": [],
   "source": [
    "quanti_features = list(train.columns[1:10])\n",
    "cat_features = [\"Closest_city\",\"income_cat\"]\n",
    "train_quanti = train[quanti_features]"
   ]
  },
  {
   "cell_type": "code",
   "execution_count": null,
   "id": "97981b29",
   "metadata": {
    "scrolled": true
   },
   "outputs": [],
   "source": [
    "train_quanti.info()"
   ]
  },
  {
   "cell_type": "markdown",
   "id": "a9307379",
   "metadata": {},
   "source": [
    "**Define the pipeline which will go through three steps :**\n",
    "1. Impute missing data with the median method\n",
    "2. Combine three new attributes\n",
    "3. Standardize the quantitative features"
   ]
  },
  {
   "cell_type": "code",
   "execution_count": null,
   "id": "9c517d23",
   "metadata": {},
   "outputs": [],
   "source": [
    "from sklearn.pipeline import Pipeline\n",
    "from sklearn.preprocessing import StandardScaler\n",
    "\n",
    "quanti_pipeline = Pipeline([\n",
    "        ('imputer', SimpleImputer(strategy=\"median\")),\n",
    "        ('attribs_adder', CombinedAttributesAdder()), # this will add 3 attributes\n",
    "        ('std_scaler', StandardScaler()),\n",
    "    ])\n",
    "\n",
    "houses_quanti = quanti_pipeline.fit_transform(train_quanti)"
   ]
  },
  {
   "cell_type": "code",
   "execution_count": null,
   "id": "db4602d5",
   "metadata": {
    "scrolled": true
   },
   "outputs": [],
   "source": [
    "houses_quanti"
   ]
  },
  {
   "cell_type": "markdown",
   "id": "98138fcb",
   "metadata": {},
   "source": [
    "#### Explain the previous cells of codes and what they aim to accomplish"
   ]
  },
  {
   "cell_type": "markdown",
   "id": "comparative-algorithm",
   "metadata": {},
   "source": [
    "### *``Your answers here``*"
   ]
  },
  {
   "cell_type": "markdown",
   "id": "infinite-future",
   "metadata": {},
   "source": [
    "**How many features should we have at this step ?** "
   ]
  },
  {
   "cell_type": "code",
   "execution_count": null,
   "id": "672597a5",
   "metadata": {},
   "outputs": [],
   "source": [
    "## Justify your answer with a code here ##"
   ]
  },
  {
   "cell_type": "markdown",
   "id": "departmental-international",
   "metadata": {},
   "source": [
    "### 2.2.4 - Pipeline for the quantitative and categorical variables"
   ]
  },
  {
   "cell_type": "markdown",
   "id": "76212868",
   "metadata": {},
   "source": [
    "Now let us include the categorical variables"
   ]
  },
  {
   "cell_type": "code",
   "execution_count": null,
   "id": "e8f66d74",
   "metadata": {},
   "outputs": [],
   "source": [
    "from sklearn.compose import ColumnTransformer\n",
    "\n",
    "full_pipeline = ColumnTransformer([\n",
    "        (\"num\", quanti_pipeline, quanti_features),\n",
    "        (\"cat\", OHE(), cat_features),\n",
    "    ])\n",
    "\n",
    "houses_ready = full_pipeline.fit_transform(train)"
   ]
  },
  {
   "cell_type": "markdown",
   "id": "81b32c80",
   "metadata": {},
   "source": [
    "**How many features should we have at this step ? Explain !**"
   ]
  },
  {
   "cell_type": "code",
   "execution_count": null,
   "id": "b746a164",
   "metadata": {},
   "outputs": [],
   "source": [
    "## Justify your answer with a code here ##"
   ]
  },
  {
   "cell_type": "markdown",
   "id": "a4e47b36",
   "metadata": {},
   "source": [
    "# Part 3 - Machine Learning"
   ]
  },
  {
   "cell_type": "markdown",
   "id": "a9b6df1b",
   "metadata": {},
   "source": [
    "First of all, define the target (outcome) and the predictors (features)"
   ]
  },
  {
   "cell_type": "code",
   "execution_count": null,
   "id": "bc08bb9c",
   "metadata": {},
   "outputs": [],
   "source": [
    "y = ## Your code here ##\n",
    "X = ## Your code here ##"
   ]
  },
  {
   "cell_type": "markdown",
   "id": "75ee7b30",
   "metadata": {},
   "source": [
    "## 3.1 - Learning and evaluating with the training set only"
   ]
  },
  {
   "cell_type": "markdown",
   "id": "36490fc2",
   "metadata": {},
   "source": [
    "#### Linear Regression\n",
    "Start with the most classical Linear Regression <br>\n",
    "Check that this algorithm does not use Ordinary Least Square with matrix inversion"
   ]
  },
  {
   "cell_type": "code",
   "execution_count": null,
   "id": "59d540b1",
   "metadata": {},
   "outputs": [],
   "source": [
    "## Your code here ##"
   ]
  },
  {
   "cell_type": "markdown",
   "id": "beeb218c",
   "metadata": {},
   "source": [
    "Estimate performance with Mean Squared Error and Mean Absolute Error"
   ]
  },
  {
   "cell_type": "code",
   "execution_count": null,
   "id": "5f40d5b5",
   "metadata": {},
   "outputs": [],
   "source": [
    "from sklearn.metrics import mean_squared_error, mean_absolute_error"
   ]
  },
  {
   "cell_type": "code",
   "execution_count": null,
   "id": "e686fe6b",
   "metadata": {},
   "outputs": [],
   "source": [
    "## Your code here ##"
   ]
  },
  {
   "cell_type": "code",
   "execution_count": null,
   "id": "b1a72d46",
   "metadata": {
    "scrolled": false
   },
   "outputs": [],
   "source": [
    "## Print your results (code) ##"
   ]
  },
  {
   "cell_type": "markdown",
   "id": "ab76d087",
   "metadata": {},
   "source": [
    "#### Decision Tree Regression"
   ]
  },
  {
   "cell_type": "code",
   "execution_count": null,
   "id": "79d48ab5",
   "metadata": {},
   "outputs": [],
   "source": [
    "## Your code here ##"
   ]
  },
  {
   "cell_type": "markdown",
   "id": "b0f48d1a",
   "metadata": {},
   "source": [
    "Estimate performance with Mean Squared Error and Mean Absolute Error"
   ]
  },
  {
   "cell_type": "code",
   "execution_count": null,
   "id": "397cc713",
   "metadata": {},
   "outputs": [],
   "source": [
    "## Your code here ##"
   ]
  },
  {
   "cell_type": "code",
   "execution_count": null,
   "id": "08fef021",
   "metadata": {
    "scrolled": true
   },
   "outputs": [],
   "source": [
    "## Print your results (code) ##"
   ]
  },
  {
   "cell_type": "markdown",
   "id": "inappropriate-logan",
   "metadata": {},
   "source": [
    "#### Comment on these first results"
   ]
  },
  {
   "cell_type": "markdown",
   "id": "purple-alfred",
   "metadata": {},
   "source": [
    "### *``Your answers here``*"
   ]
  },
  {
   "cell_type": "markdown",
   "id": "eaffc084",
   "metadata": {},
   "source": [
    "## 3.2 - Estimating the models with *cross validation*"
   ]
  },
  {
   "cell_type": "markdown",
   "id": "27512bda",
   "metadata": {},
   "source": [
    "**Explain what the following function accomplishes**"
   ]
  },
  {
   "cell_type": "code",
   "execution_count": null,
   "id": "3698dd98",
   "metadata": {},
   "outputs": [],
   "source": [
    "def display_scores(scores):\n",
    "    print(\"Scores:\", scores)\n",
    "    print(\"Mean:\", scores.mean())\n",
    "    print(\"Standard deviation:\", scores.std())"
   ]
  },
  {
   "cell_type": "markdown",
   "id": "virtual-maximum",
   "metadata": {},
   "source": [
    "### *``Your answers here``*"
   ]
  },
  {
   "cell_type": "markdown",
   "id": "666e8028",
   "metadata": {},
   "source": [
    "#### Linear Regression"
   ]
  },
  {
   "cell_type": "code",
   "execution_count": null,
   "id": "ca734d8a",
   "metadata": {},
   "outputs": [],
   "source": [
    "lr = LinearRegression()"
   ]
  },
  {
   "cell_type": "code",
   "execution_count": null,
   "id": "66696d21",
   "metadata": {
    "scrolled": true
   },
   "outputs": [],
   "source": [
    "from sklearn.model_selection import cross_val_score\n",
    "\n",
    "lr_scores = ## Your code here ##\n",
    "lr_rmse = ## Your code here ##\n",
    "## Your code here ##"
   ]
  },
  {
   "cell_type": "markdown",
   "id": "96a8c77c",
   "metadata": {},
   "source": [
    "#### Penalized Linear Regression (Elasticnet)"
   ]
  },
  {
   "cell_type": "code",
   "execution_count": null,
   "id": "c812b9f6",
   "metadata": {},
   "outputs": [],
   "source": [
    "from sklearn.linear_model import ElasticNet"
   ]
  },
  {
   "cell_type": "code",
   "execution_count": null,
   "id": "0157aeb9",
   "metadata": {
    "scrolled": false
   },
   "outputs": [],
   "source": [
    "####################\n",
    "## Your code here ##\n",
    "####################"
   ]
  },
  {
   "cell_type": "markdown",
   "id": "22f0831f",
   "metadata": {},
   "source": [
    "#### Decision Trees"
   ]
  },
  {
   "cell_type": "code",
   "execution_count": null,
   "id": "cc274159",
   "metadata": {},
   "outputs": [],
   "source": [
    "## Your code here ##"
   ]
  },
  {
   "cell_type": "code",
   "execution_count": null,
   "id": "2821b868",
   "metadata": {
    "scrolled": true
   },
   "outputs": [],
   "source": [
    "####################\n",
    "## Your code here ##\n",
    "####################"
   ]
  },
  {
   "cell_type": "markdown",
   "id": "d478fa7f",
   "metadata": {},
   "source": [
    "***Compare the results of the evaluation (scores) using the training set with the evaluation (scores) using cross validation. <br>\n",
    "What are your conclusions ?***"
   ]
  },
  {
   "cell_type": "markdown",
   "id": "occupational-attention",
   "metadata": {},
   "source": [
    "### *``Your answers here``*"
   ]
  },
  {
   "cell_type": "markdown",
   "id": "8c2754ad",
   "metadata": {},
   "source": [
    "#### Random Forests"
   ]
  },
  {
   "cell_type": "code",
   "execution_count": null,
   "id": "cbb017db",
   "metadata": {},
   "outputs": [],
   "source": [
    "## Your code here ##"
   ]
  },
  {
   "cell_type": "code",
   "execution_count": null,
   "id": "6ef58666",
   "metadata": {
    "scrolled": true
   },
   "outputs": [],
   "source": [
    "####################\n",
    "## Your code here ##\n",
    "####################"
   ]
  },
  {
   "cell_type": "markdown",
   "id": "80678893",
   "metadata": {},
   "source": [
    "#### Support Vector Machines"
   ]
  },
  {
   "cell_type": "code",
   "execution_count": null,
   "id": "aec6f7bd",
   "metadata": {},
   "outputs": [],
   "source": [
    "## Your code here ##"
   ]
  },
  {
   "cell_type": "code",
   "execution_count": null,
   "id": "bdf778c3",
   "metadata": {
    "scrolled": true
   },
   "outputs": [],
   "source": [
    "####################\n",
    "## Your code here ##\n",
    "####################"
   ]
  },
  {
   "cell_type": "markdown",
   "id": "299c0e53",
   "metadata": {},
   "source": [
    "## 3.3 - Tuning the model with Grid Search and Randomized Search"
   ]
  },
  {
   "cell_type": "markdown",
   "id": "cd0bd724",
   "metadata": {},
   "source": [
    "#### Example : Random Forest"
   ]
  },
  {
   "cell_type": "code",
   "execution_count": null,
   "id": "333a09a5",
   "metadata": {},
   "outputs": [],
   "source": [
    "from sklearn.model_selection import GridSearchCV"
   ]
  },
  {
   "cell_type": "code",
   "execution_count": null,
   "id": "254f1ab3",
   "metadata": {},
   "outputs": [],
   "source": [
    "rf_grid = {'n_estimators': [30,60,100], 'max_features': [8,10,15]}\n",
    "\n",
    "####################\n",
    "## Your code here ##\n",
    "####################"
   ]
  },
  {
   "cell_type": "code",
   "execution_count": null,
   "id": "7021465d",
   "metadata": {},
   "outputs": [],
   "source": [
    "## Display the hyperparameters of the best model (code) ##"
   ]
  },
  {
   "cell_type": "code",
   "execution_count": null,
   "id": "28d372bc",
   "metadata": {},
   "outputs": [],
   "source": [
    "## Print the score of the best model (code)##"
   ]
  },
  {
   "cell_type": "markdown",
   "id": "38108dc4",
   "metadata": {},
   "source": [
    "#### Example : ElasticNet"
   ]
  },
  {
   "cell_type": "code",
   "execution_count": null,
   "id": "7fdb9b0c",
   "metadata": {},
   "outputs": [],
   "source": [
    "en_grid = {'alpha': np.logspace(-3, 4, 10), 'l1_ratio':np.linspace(0,1,11) }\n",
    "\n",
    "####################\n",
    "## Your code here ##\n",
    "####################"
   ]
  },
  {
   "cell_type": "code",
   "execution_count": null,
   "id": "814b68ac",
   "metadata": {},
   "outputs": [],
   "source": [
    "## Display the hyperparameters of the best model (code) ##"
   ]
  },
  {
   "cell_type": "code",
   "execution_count": null,
   "id": "5a168f6a",
   "metadata": {
    "scrolled": false
   },
   "outputs": [],
   "source": [
    "## Print the score of the best model (code)##"
   ]
  },
  {
   "cell_type": "markdown",
   "id": "458f3400",
   "metadata": {},
   "source": [
    "#### Example Decision Tree"
   ]
  },
  {
   "cell_type": "code",
   "execution_count": null,
   "id": "7c262cb5",
   "metadata": {},
   "outputs": [],
   "source": [
    "from sklearn.model_selection import RandomizedSearchCV"
   ]
  },
  {
   "cell_type": "code",
   "execution_count": null,
   "id": "86bc5ccb",
   "metadata": {},
   "outputs": [],
   "source": [
    "cart_grid = {\"min_samples_split\": range(1,10),\"min_samples_leaf\": range(1,60)}\n",
    "\n",
    "####################\n",
    "## Your code here ##\n",
    "####################"
   ]
  },
  {
   "cell_type": "code",
   "execution_count": null,
   "id": "b62fa183",
   "metadata": {},
   "outputs": [],
   "source": [
    "## Display the hyperparameters of the best model (code) ##"
   ]
  },
  {
   "cell_type": "code",
   "execution_count": null,
   "id": "fc316f26",
   "metadata": {
    "scrolled": false
   },
   "outputs": [],
   "source": [
    "## Print the score of the best model (code)##"
   ]
  },
  {
   "cell_type": "markdown",
   "id": "431584e5",
   "metadata": {},
   "source": [
    "## 3.4 - Final question : how good are our models in predicting unseen data ?"
   ]
  },
  {
   "cell_type": "code",
   "execution_count": null,
   "id": "1f524e81",
   "metadata": {},
   "outputs": [],
   "source": [
    "# Start by checking the structure of the test set (code) #\n",
    "## Your code here ##"
   ]
  },
  {
   "cell_type": "markdown",
   "id": "7ed3a80d",
   "metadata": {},
   "source": [
    "### Prepare your test set to be evaluated on the tuned models"
   ]
  },
  {
   "cell_type": "code",
   "execution_count": null,
   "id": "1cac6b42",
   "metadata": {},
   "outputs": [],
   "source": [
    "# Now prepare our test set\n",
    "## Your code here ##"
   ]
  },
  {
   "cell_type": "code",
   "execution_count": null,
   "id": "7ecfa407",
   "metadata": {},
   "outputs": [],
   "source": [
    "# Define your target (outcome) and your predictors #\n",
    "## Your code here ##"
   ]
  },
  {
   "cell_type": "markdown",
   "id": "fc614ce9",
   "metadata": {},
   "source": [
    "#### Random Forest"
   ]
  },
  {
   "cell_type": "code",
   "execution_count": null,
   "id": "accessory-mattress",
   "metadata": {},
   "outputs": [],
   "source": [
    "# Estimate the performance of your test set on the best cross-validated Random Forest model #\n",
    "\n",
    "####################\n",
    "## Your code here ##\n",
    "####################"
   ]
  },
  {
   "cell_type": "markdown",
   "id": "856f246c",
   "metadata": {},
   "source": [
    "#### ElaticNet"
   ]
  },
  {
   "cell_type": "code",
   "execution_count": null,
   "id": "unexpected-treatment",
   "metadata": {},
   "outputs": [],
   "source": [
    "# Estimate the performance of your test set on the best cross-validated Elasticnet model #\n",
    "\n",
    "####################\n",
    "## Your code here ##\n",
    "####################"
   ]
  },
  {
   "cell_type": "markdown",
   "id": "b68f5d3f",
   "metadata": {},
   "source": [
    "#### Decision Tree"
   ]
  },
  {
   "cell_type": "code",
   "execution_count": null,
   "id": "accessible-invalid",
   "metadata": {},
   "outputs": [],
   "source": [
    "# Estimate the performance of your test set on the best cross-validated Decision Tree model #\n",
    "\n",
    "####################\n",
    "## Your code here ##\n",
    "####################"
   ]
  },
  {
   "cell_type": "markdown",
   "id": "ce4debee",
   "metadata": {},
   "source": [
    "#### Linear Regression"
   ]
  },
  {
   "cell_type": "code",
   "execution_count": null,
   "id": "silent-click",
   "metadata": {},
   "outputs": [],
   "source": [
    "# Estimate the performance of your test set on the Linear Regression model #\n",
    "\n",
    "####################\n",
    "## Your code here ##\n",
    "####################"
   ]
  },
  {
   "cell_type": "markdown",
   "id": "2508aa0e",
   "metadata": {},
   "source": [
    "### Machine Learning Conclusion\n",
    "**In the light of all these information, what have your learned about :**\n",
    "1. Overfitting\n",
    "2. Tuning a learner\n",
    "3. Model performance\n",
    "4. Else ?\n",
    "Please write a complete but synthetic essay on your learning experience"
   ]
  },
  {
   "cell_type": "markdown",
   "id": "functional-providence",
   "metadata": {},
   "source": [
    "### <span style=\"color:blue\">Full Homework to be submitted on session #7</span>"
   ]
  }
 ],
 "metadata": {
  "celltoolbar": "Format de la Cellule Texte Brut",
  "kernelspec": {
   "display_name": "Python 3",
   "language": "python",
   "name": "python3"
  },
  "language_info": {
   "codemirror_mode": {
    "name": "ipython",
    "version": 3
   },
   "file_extension": ".py",
   "mimetype": "text/x-python",
   "name": "python",
   "nbconvert_exporter": "python",
   "pygments_lexer": "ipython3",
   "version": "3.7.10"
  }
 },
 "nbformat": 4,
 "nbformat_minor": 5
}
